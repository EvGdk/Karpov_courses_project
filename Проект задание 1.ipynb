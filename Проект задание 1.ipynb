{
 "cells": [
  {
   "cell_type": "code",
   "execution_count": 1,
   "metadata": {
    "id": "X3BZh7hHKRgB"
   },
   "outputs": [],
   "source": [
    "import pandas as pd"
   ]
  },
  {
   "cell_type": "code",
   "execution_count": 2,
   "metadata": {
    "id": "JIGfJLOHKYT_"
   },
   "outputs": [],
   "source": [
    "df = pd.read_csv(\"https://stepik.org/media/attachments/lesson/409319/test1_completed.csv\")\n",
    "df = df.rename(columns={\"Товар\":\"item\", \"Количество\":\"amount\"})"
   ]
  },
  {
   "cell_type": "code",
   "execution_count": 3,
   "metadata": {
    "colab": {
     "base_uri": "https://localhost:8080/",
     "height": 205
    },
    "id": "6ZTKuBzIKaJF",
    "outputId": "11800c29-1a9d-4720-81d6-a023f5a98251"
   },
   "outputs": [
    {
     "data": {
      "text/html": [
       "<div>\n",
       "<style scoped>\n",
       "    .dataframe tbody tr th:only-of-type {\n",
       "        vertical-align: middle;\n",
       "    }\n",
       "\n",
       "    .dataframe tbody tr th {\n",
       "        vertical-align: top;\n",
       "    }\n",
       "\n",
       "    .dataframe thead th {\n",
       "        text-align: right;\n",
       "    }\n",
       "</style>\n",
       "<table border=\"1\" class=\"dataframe\">\n",
       "  <thead>\n",
       "    <tr style=\"text-align: right;\">\n",
       "      <th></th>\n",
       "      <th>id</th>\n",
       "      <th>item</th>\n",
       "      <th>amount</th>\n",
       "    </tr>\n",
       "  </thead>\n",
       "  <tbody>\n",
       "    <tr>\n",
       "      <th>0</th>\n",
       "      <td>17119</td>\n",
       "      <td>Лимон</td>\n",
       "      <td>1.1</td>\n",
       "    </tr>\n",
       "    <tr>\n",
       "      <th>1</th>\n",
       "      <td>17119</td>\n",
       "      <td>Лимон оранжевый</td>\n",
       "      <td>0.7</td>\n",
       "    </tr>\n",
       "    <tr>\n",
       "      <th>2</th>\n",
       "      <td>17119</td>\n",
       "      <td>Лук-порей</td>\n",
       "      <td>10.0</td>\n",
       "    </tr>\n",
       "    <tr>\n",
       "      <th>3</th>\n",
       "      <td>17119</td>\n",
       "      <td>Лук репчатый</td>\n",
       "      <td>2.5</td>\n",
       "    </tr>\n",
       "    <tr>\n",
       "      <th>4</th>\n",
       "      <td>17119</td>\n",
       "      <td>Малина свежая</td>\n",
       "      <td>1.0</td>\n",
       "    </tr>\n",
       "  </tbody>\n",
       "</table>\n",
       "</div>"
      ],
      "text/plain": [
       "      id             item  amount\n",
       "0  17119            Лимон     1.1\n",
       "1  17119  Лимон оранжевый     0.7\n",
       "2  17119        Лук-порей    10.0\n",
       "3  17119     Лук репчатый     2.5\n",
       "4  17119    Малина свежая     1.0"
      ]
     },
     "execution_count": 3,
     "metadata": {},
     "output_type": "execute_result"
    }
   ],
   "source": [
    "df.head()"
   ]
  },
  {
   "cell_type": "code",
   "execution_count": 4,
   "metadata": {
    "colab": {
     "base_uri": "https://localhost:8080/",
     "height": 205
    },
    "id": "_FpfYWzpKZ_4",
    "outputId": "a2507f8e-9530-46f5-c170-c9b3af94d75f"
   },
   "outputs": [
    {
     "data": {
      "text/html": [
       "<div>\n",
       "<style scoped>\n",
       "    .dataframe tbody tr th:only-of-type {\n",
       "        vertical-align: middle;\n",
       "    }\n",
       "\n",
       "    .dataframe tbody tr th {\n",
       "        vertical-align: top;\n",
       "    }\n",
       "\n",
       "    .dataframe thead th {\n",
       "        text-align: right;\n",
       "    }\n",
       "</style>\n",
       "<table border=\"1\" class=\"dataframe\">\n",
       "  <thead>\n",
       "    <tr style=\"text-align: right;\">\n",
       "      <th></th>\n",
       "      <th>id</th>\n",
       "      <th>item</th>\n",
       "    </tr>\n",
       "  </thead>\n",
       "  <tbody>\n",
       "    <tr>\n",
       "      <th>0</th>\n",
       "      <td>17119</td>\n",
       "      <td>Лимон</td>\n",
       "    </tr>\n",
       "    <tr>\n",
       "      <th>1</th>\n",
       "      <td>17119</td>\n",
       "      <td>Лимон оранжевый</td>\n",
       "    </tr>\n",
       "    <tr>\n",
       "      <th>2</th>\n",
       "      <td>17119</td>\n",
       "      <td>Лук-порей</td>\n",
       "    </tr>\n",
       "    <tr>\n",
       "      <th>3</th>\n",
       "      <td>17119</td>\n",
       "      <td>Лук репчатый</td>\n",
       "    </tr>\n",
       "    <tr>\n",
       "      <th>4</th>\n",
       "      <td>17119</td>\n",
       "      <td>Малина свежая</td>\n",
       "    </tr>\n",
       "  </tbody>\n",
       "</table>\n",
       "</div>"
      ],
      "text/plain": [
       "      id             item\n",
       "0  17119            Лимон\n",
       "1  17119  Лимон оранжевый\n",
       "2  17119        Лук-порей\n",
       "3  17119     Лук репчатый\n",
       "4  17119    Малина свежая"
      ]
     },
     "execution_count": 4,
     "metadata": {},
     "output_type": "execute_result"
    }
   ],
   "source": [
    "data = df.iloc[:, :2] # оставим только нужные колонки\n",
    "data.head()"
   ]
  },
  {
   "cell_type": "code",
   "execution_count": 34,
   "metadata": {
    "colab": {
     "base_uri": "https://localhost:8080/"
    },
    "id": "w4bjFe4zPsdM",
    "outputId": "5051b8c7-dfd7-4ae5-981a-2f4372f87a14"
   },
   "outputs": [
    {
     "name": "stdout",
     "output_type": "stream",
     "text": [
      "True\n",
      "True\n"
     ]
    }
   ],
   "source": [
    "print(data.id.nunique() == df.id.nunique())# проверим, что ничего не потерялось в процессе\n",
    "print(data.id.nunique() == df.id.nunique())"
   ]
  },
  {
   "cell_type": "code",
   "execution_count": 35,
   "metadata": {
    "id": "XMDhmbMeTNJe"
   },
   "outputs": [],
   "source": [
    "items_list_per_id = data.groupby(\"id\")['item'].apply(list).values"
   ]
  },
  {
   "cell_type": "code",
   "execution_count": 36,
   "metadata": {
    "id": "SYWMnoKGkK6T"
   },
   "outputs": [],
   "source": [
    "unique_items = data.item.unique().tolist() # создадим список товаров, и дубликат\n",
    "unique_items_dublicate = data.item.unique().tolist()"
   ]
  },
  {
   "cell_type": "markdown",
   "metadata": {
    "id": "L6gQG6PKpqfY"
   },
   "source": [
    "##### data - наш датасет, \n",
    "##### unique_items = список товаров, \n",
    "##### unique_items_dublicate = список товаров дубликат, \n",
    "##### items_list_per_id  -  список товаров по каждому заказу (список со списками)\n"
   ]
  },
  {
   "cell_type": "code",
   "execution_count": 59,
   "metadata": {
    "id": "U_HP_qJ9sxEs"
   },
   "outputs": [],
   "source": [
    "col1 = [] \n",
    "col2 = []\n",
    "counter = []\n",
    "n = 0"
   ]
  },
  {
   "cell_type": "code",
   "execution_count": 60,
   "metadata": {
    "id": "aIyjTNA4szOz"
   },
   "outputs": [],
   "source": [
    "done_list = [] #список, в который мы будем записывать товары, которые проверили\n",
    "for i in unique_items: # итерируемся по списку товаров\n",
    "    for h in unique_items_dublicate: # итерируемся по списку дубликатов \n",
    "        if h not in done_list: # убедимся, что товар еще не в списке проверенных товаров\n",
    "            n = 0 # счетчик встречаемости\n",
    "            if i != h:  #убедимся, что это не один и тот же товар                \n",
    "                for j in items_list_per_id:           \n",
    "                    if i in j and h in j:  # если в списке товаров по одному заказу присутствуют оба проверяемых товара, увеличиваем счетчик на 1  \n",
    "                            n +=1                                     \n",
    "                col1.append(i) #товар 1                       \n",
    "                col2.append(h) #товар 2           \n",
    "                counter.append(n) # встречаемость\n",
    "    done_list.append(i) #записываем товар, который уже проверили"
   ]
  },
  {
   "cell_type": "code",
   "execution_count": 61,
   "metadata": {
    "id": "mqZwXFgetHUi"
   },
   "outputs": [],
   "source": [
    "# Запишем результаты в датафрейм\n",
    "items_match_df = pd.DataFrame({\"1_Товар\":col1, \"2_Товар\":col2, \"Встречаемость\":counter})\n",
    "items_match_df = items_match_df.sort_values(by=\"Встречаемость\", ascending=False)\n",
    "items_match_df.reset_index(drop=True, inplace=True)"
   ]
  },
  {
   "cell_type": "code",
   "execution_count": 62,
   "metadata": {
    "colab": {
     "base_uri": "https://localhost:8080/",
     "height": 422
    },
    "id": "yNJnMk1-udsD",
    "outputId": "18ac1891-1995-4328-ccf5-5c24d3b07d54"
   },
   "outputs": [
    {
     "data": {
      "text/html": [
       "<div>\n",
       "<style scoped>\n",
       "    .dataframe tbody tr th:only-of-type {\n",
       "        vertical-align: middle;\n",
       "    }\n",
       "\n",
       "    .dataframe tbody tr th {\n",
       "        vertical-align: top;\n",
       "    }\n",
       "\n",
       "    .dataframe thead th {\n",
       "        text-align: right;\n",
       "    }\n",
       "</style>\n",
       "<table border=\"1\" class=\"dataframe\">\n",
       "  <thead>\n",
       "    <tr style=\"text-align: right;\">\n",
       "      <th></th>\n",
       "      <th>1_Товар</th>\n",
       "      <th>2_Товар</th>\n",
       "      <th>Встречаемость</th>\n",
       "    </tr>\n",
       "  </thead>\n",
       "  <tbody>\n",
       "    <tr>\n",
       "      <th>0</th>\n",
       "      <td>Огурцы Луховицкие</td>\n",
       "      <td>Укроп</td>\n",
       "      <td>431</td>\n",
       "    </tr>\n",
       "    <tr>\n",
       "      <th>1</th>\n",
       "      <td>Петрушка</td>\n",
       "      <td>Укроп</td>\n",
       "      <td>408</td>\n",
       "    </tr>\n",
       "    <tr>\n",
       "      <th>2</th>\n",
       "      <td>Огурцы Луховицкие</td>\n",
       "      <td>Арбуз</td>\n",
       "      <td>345</td>\n",
       "    </tr>\n",
       "    <tr>\n",
       "      <th>3</th>\n",
       "      <td>Огурцы Луховицкие</td>\n",
       "      <td>Кабачки</td>\n",
       "      <td>326</td>\n",
       "    </tr>\n",
       "    <tr>\n",
       "      <th>4</th>\n",
       "      <td>Укроп</td>\n",
       "      <td>Кинза</td>\n",
       "      <td>303</td>\n",
       "    </tr>\n",
       "  </tbody>\n",
       "</table>\n",
       "</div>"
      ],
      "text/plain": [
       "             1_Товар  2_Товар  Встречаемость\n",
       "0  Огурцы Луховицкие    Укроп            431\n",
       "1           Петрушка    Укроп            408\n",
       "2  Огурцы Луховицкие    Арбуз            345\n",
       "3  Огурцы Луховицкие  Кабачки            326\n",
       "4              Укроп    Кинза            303"
      ]
     },
     "execution_count": 62,
     "metadata": {},
     "output_type": "execute_result"
    }
   ],
   "source": [
    "# Таким образом мы получили таблицу встречаемости товаров по убыванию\n",
    "items_match_df.head()"
   ]
  }
 ],
 "metadata": {
  "colab": {
   "collapsed_sections": [],
   "name": "Final test 1.ipynb",
   "provenance": []
  },
  "kernelspec": {
   "display_name": "Python 3 (ipykernel)",
   "language": "python",
   "name": "python3"
  },
  "language_info": {
   "codemirror_mode": {
    "name": "ipython",
    "version": 3
   },
   "file_extension": ".py",
   "mimetype": "text/x-python",
   "name": "python",
   "nbconvert_exporter": "python",
   "pygments_lexer": "ipython3",
   "version": "3.9.5"
  }
 },
 "nbformat": 4,
 "nbformat_minor": 1
}
